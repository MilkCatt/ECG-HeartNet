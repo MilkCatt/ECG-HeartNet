{
 "cells": [
  {
   "cell_type": "code",
   "execution_count": 8,
   "id": "bd7bf27a",
   "metadata": {},
   "outputs": [
    {
     "name": "stdout",
     "output_type": "stream",
     "text": [
      "<class 'pandas.core.frame.DataFrame'>\n",
      "RangeIndex: 45152 entries, 0 to 45151\n",
      "Data columns (total 6 columns):\n",
      " #   Column        Non-Null Count  Dtype \n",
      "---  ------        --------------  ----- \n",
      " 0   ID            45152 non-null  object\n",
      " 1   Dx_426177001  45152 non-null  bool  \n",
      " 2   Dx_426783006  45152 non-null  bool  \n",
      " 3   Dx_164890007  45152 non-null  bool  \n",
      " 4   Dx_427084000  45152 non-null  bool  \n",
      " 5   Dx_164934002  45152 non-null  bool  \n",
      "dtypes: bool(5), object(1)\n",
      "memory usage: 573.3+ KB\n"
     ]
    }
   ],
   "source": [
    "import pandas as pd\n",
    "\n",
    "data = pd.read_csv('../data/diagnoses_10.csv')\n",
    "\n",
    "# Getting the top 5 diagnoses only\n",
    "data = data.drop(columns=['Dx_55827005'])\n",
    "data.head()\n",
    "data.info()\n"
   ]
  },
  {
   "cell_type": "code",
   "execution_count": 5,
   "id": "9fb1eb04",
   "metadata": {},
   "outputs": [
    {
     "name": "stdout",
     "output_type": "stream",
     "text": [
      "True count: 16559\n",
      "False count: 28593\n",
      "True count after adjustment: 16559\n",
      "False count after adjustment: 16559\n"
     ]
    },
    {
     "data": {
      "text/plain": [
       "(33118, 7)"
      ]
     },
     "execution_count": 5,
     "metadata": {},
     "output_type": "execute_result"
    }
   ],
   "source": [
    "# For first class, calculate the 50/50 count\n",
    "true_count = data['Dx_426177001'].sum()\n",
    "false_count = len(data) - true_count\n",
    "print(f\"True count: {true_count}\")\n",
    "print(f\"False count: {false_count}\")\n",
    "\n",
    "# Adjust the dataset based on the true_count and false_count\n",
    "if true_count > false_count:\n",
    "    # If there are more True values than needed, randomly sample rows to remove\n",
    "    true_rows = data[data['Dx_426177001']].sample(n=(true_count - false_count), random_state=42)\n",
    "    data = data.drop(true_rows.index)\n",
    "elif true_count < false_count:\n",
    "    # If there are less True than needed, sample False rows to remove\n",
    "    false_rows = data[~data['Dx_426177001']].sample(n=(false_count - true_count), random_state=42)\n",
    "    data = data.drop(false_rows.index)\n",
    "\n",
    "true_count_after = data['Dx_426177001'].sum()\n",
    "false_count_after = len(data) - true_count_after\n",
    "print(f\"True count after adjustment: {true_count_after}\")\n",
    "print(f\"False count after adjustment: {false_count_after}\")\n",
    "data.shape"
   ]
  },
  {
   "cell_type": "code",
   "execution_count": 37,
   "id": "7e97e68d",
   "metadata": {},
   "outputs": [],
   "source": [
    "data.to_csv('../data/diagnoses_cut.csv', index=False)"
   ]
  }
 ],
 "metadata": {
  "kernelspec": {
   "display_name": ".venv",
   "language": "python",
   "name": "python3"
  },
  "language_info": {
   "codemirror_mode": {
    "name": "ipython",
    "version": 3
   },
   "file_extension": ".py",
   "mimetype": "text/x-python",
   "name": "python",
   "nbconvert_exporter": "python",
   "pygments_lexer": "ipython3",
   "version": "3.13.1"
  }
 },
 "nbformat": 4,
 "nbformat_minor": 5
}
