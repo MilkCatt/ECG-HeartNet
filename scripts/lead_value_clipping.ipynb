{
 "cells": [
  {
   "cell_type": "code",
   "execution_count": 1,
   "metadata": {},
   "outputs": [
    {
     "name": "stdout",
     "output_type": "stream",
     "text": [
      "{'I': {'mean': np.float64(0.0017377080217930512), 'std': np.float64(0.14356736611851956)}, 'II': {'mean': np.float64(0.0038203141832033796), 'std': np.float64(0.17755781191435402)}, 'III': {'mean': np.float64(0.002078985369418842), 'std': np.float64(0.15620894004410205)}, 'aVR': {'mean': np.float64(-0.001593612601878088), 'std': np.float64(0.14130977828751345)}, 'aVL': {'mean': np.float64(-0.0013561875531537973), 'std': np.float64(0.12093651107055514)}, 'aVF': {'mean': np.float64(0.0017667012491141157), 'std': np.float64(0.15103439842117525)}, 'V1': {'mean': np.float64(-0.0004684570266756133), 'std': np.float64(0.22579097827980024)}, 'V2': {'mean': np.float64(0.0029829813693335624), 'std': np.float64(0.3648487670717997)}, 'V3': {'mean': np.float64(0.0034779498549144957), 'std': np.float64(0.3746732053707821)}, 'V4': {'mean': np.float64(0.00407681692861873), 'std': np.float64(0.38782930525871673)}, 'V5': {'mean': np.float64(0.0032441011508382465), 'std': np.float64(0.3897460908800855)}, 'V6': {'mean': np.float64(-0.0004629316852436685), 'std': np.float64(0.41566855499940053)}}\n"
     ]
    }
   ],
   "source": [
    "import pandas as pd\n",
    "import os\n",
    "import glob\n",
    "from collections import defaultdict\n",
    "\n",
    "input_dir = '../data/ecg'\n",
    "ecg_files = glob.glob(os.path.join(input_dir, '*.csv'))\n",
    "\n",
    "sums = defaultdict(float)\n",
    "sumsq = defaultdict(float)\n",
    "counts = defaultdict(int)\n",
    "\n",
    "for file_path in ecg_files:\n",
    "    df = pd.read_csv(file_path)\n",
    "    for col in df.columns:\n",
    "        if col == 'time':\n",
    "            continue\n",
    "        sums[col] += df[col].sum()\n",
    "        sumsq[col] += (df[col] ** 2).sum()\n",
    "        counts[col] += df[col].count()\n",
    "\n",
    "# Compute mean and std for each lead\n",
    "global_stats = {}\n",
    "for col in sums:\n",
    "    mean = sums[col] / counts[col]\n",
    "    var = (sumsq[col] / counts[col]) - mean ** 2\n",
    "    std = var ** 0.5\n",
    "    global_stats[col] = {'mean': mean, 'std': std}\n",
    "\n",
    "print(global_stats)  # Optionally view lead-wise stats"
   ]
  },
  {
   "cell_type": "code",
   "execution_count": 2,
   "metadata": {},
   "outputs": [
    {
     "name": "stdout",
     "output_type": "stream",
     "text": [
      "{'I': {'lower': -0.7160991225708047, 'upper': 0.7195745386143908},\n",
      " 'II': {'lower': -0.8839687453885667, 'upper': 0.8916093737549735},\n",
      " 'III': {'lower': -0.7789657148510913, 'upper': 0.7831236855899291},\n",
      " 'V1': {'lower': -1.1294233484256768, 'upper': 1.1284864343723258},\n",
      " 'V2': {'lower': -1.8212608539896649, 'upper': 1.827226816728332},\n",
      " 'V3': {'lower': -1.869888076998996, 'upper': 1.876843976708825},\n",
      " 'V4': {'lower': -1.935069709364965, 'upper': 1.9432233432222024},\n",
      " 'V5': {'lower': -1.9454863532495892, 'upper': 1.9519745555512655},\n",
      " 'V6': {'lower': -2.0788057066822465, 'upper': 2.077879843311759},\n",
      " 'aVF': {'lower': -0.7534052908567621, 'upper': 0.7569386933549904},\n",
      " 'aVL': {'lower': -0.6060387429059295, 'upper': 0.6033263677996219},\n",
      " 'aVR': {'lower': -0.7081425040394453, 'upper': 0.7049552788356892}}\n"
     ]
    }
   ],
   "source": [
    "n_std = 5  # Number of standard deviations for clipping\n",
    "\n",
    "clipping_bounds = {}\n",
    "\n",
    "for lead, stats in global_stats.items():\n",
    "    mean = float(stats['mean'])\n",
    "    std = float(stats['std'])\n",
    "    lower = mean - n_std * std\n",
    "    upper = mean + n_std * std\n",
    "    clipping_bounds[lead] = {'lower': lower, 'upper': upper}\n",
    "\n",
    "# Optionally print or inspect\n",
    "import pprint\n",
    "pprint.pprint(clipping_bounds)\n"
   ]
  },
  {
   "cell_type": "code",
   "execution_count": 3,
   "metadata": {},
   "outputs": [
    {
     "name": "stdout",
     "output_type": "stream",
     "text": [
      "✅ Metadata saved to ecg_metadata.json\n"
     ]
    }
   ],
   "source": [
    "import json\n",
    "\n",
    "# Step 1: Make sure everything is converted to standard float (not np.float64)\n",
    "def clean_for_json(d):\n",
    "    return {k: {sk: float(sv) for sk, sv in v.items()} for k, v in d.items()}\n",
    "\n",
    "# Clean versions\n",
    "global_stats_clean = clean_for_json(global_stats)\n",
    "clipping_bounds_clean = clean_for_json(clipping_bounds)\n",
    "\n",
    "# Step 2: Combine into one metadata dictionary\n",
    "metadata = {\n",
    "    'global_stats': global_stats_clean,\n",
    "    'clipping_bounds': clipping_bounds_clean\n",
    "}\n",
    "\n",
    "# Step 3: Save to JSON file\n",
    "with open('../metadata/ecg_metadata.json', 'w') as f:\n",
    "    json.dump(metadata, f, indent=4)\n",
    "\n",
    "print(\"✅ Metadata saved to ecg_metadata.json\")\n"
   ]
  },
  {
   "cell_type": "code",
   "execution_count": 12,
   "metadata": {},
   "outputs": [
    {
     "name": "stdout",
     "output_type": "stream",
     "text": [
      "✅ All ECG files clipped and saved to: ../data/ecg_clipped\n"
     ]
    }
   ],
   "source": [
    "import pandas as pd\n",
    "import os\n",
    "import glob\n",
    "import json\n",
    "\n",
    "# Load clipping bounds from metadata JSON\n",
    "with open('../metadata/ecg_metadata.json', 'r') as f:\n",
    "    metadata = json.load(f)\n",
    "\n",
    "clipping_bounds = metadata['clipping_bounds']\n",
    "\n",
    "# Setup paths\n",
    "input_dir = '../data/ecg'\n",
    "output_dir = '../data/ecg_clipped'\n",
    "os.makedirs(output_dir, exist_ok=True)\n",
    "\n",
    "# Get list of all .csv files\n",
    "ecg_files = glob.glob(os.path.join(input_dir, '*.csv'))\n",
    "\n",
    "# Clip each file\n",
    "for file_path in ecg_files:\n",
    "    df = pd.read_csv(file_path)\n",
    "    clipped_df = df.copy()\n",
    "\n",
    "    for col in df.columns:\n",
    "        if col == 'time':\n",
    "            continue\n",
    "        lower = clipping_bounds[col]['lower']\n",
    "        upper = clipping_bounds[col]['upper']\n",
    "        clipped_df[col] = df[col].clip(lower=lower, upper=upper)\n",
    "\n",
    "    # Save to output folder\n",
    "    filename = os.path.basename(file_path)\n",
    "    clipped_df.to_csv(os.path.join(output_dir, filename), index=False)\n",
    "\n",
    "print(\"✅ All ECG files clipped and saved to:\", output_dir)\n"
   ]
  },
  {
   "cell_type": "code",
   "execution_count": 15,
   "metadata": {},
   "outputs": [
    {
     "name": "stdout",
     "output_type": "stream",
     "text": [
      "{'I': {'mean': np.float64(0.0008244467063146014), 'std': np.float64(0.12618619423799107)}, 'II': {'mean': np.float64(0.002639598971731266), 'std': np.float64(0.15602616848001877)}, 'III': {'mean': np.float64(0.00233063847090593), 'std': np.float64(0.13065246740675088)}, 'aVR': {'mean': np.float64(-0.0006678672134255577), 'std': np.float64(0.12592566953809425)}, 'aVL': {'mean': np.float64(-0.002165100527038807), 'std': np.float64(0.10321755991291601)}, 'aVF': {'mean': np.float64(0.0012038095120968282), 'std': np.float64(0.1287620572062578)}, 'V1': {'mean': np.float64(0.0010650213937836385), 'std': np.float64(0.1916399300532119)}, 'V2': {'mean': np.float64(0.005617837505461991), 'std': np.float64(0.3202138962626205)}, 'V3': {'mean': np.float64(0.005117576033032021), 'std': np.float64(0.3285690375964132)}, 'V4': {'mean': np.float64(0.002886342475415718), 'std': np.float64(0.32946913388098775)}, 'V5': {'mean': np.float64(0.0009154152963690726), 'std': np.float64(0.30538764668023605)}, 'V6': {'mean': np.float64(-0.001363474294907039), 'std': np.float64(0.28463600851594284)}}\n"
     ]
    }
   ],
   "source": [
    "\n",
    "input_dir = '../data/ecg_clipped'\n",
    "ecg_files = glob.glob(os.path.join(input_dir, '*.csv'))\n",
    "\n",
    "sums = defaultdict(float)\n",
    "sumsq = defaultdict(float)\n",
    "counts = defaultdict(int)\n",
    "\n",
    "for file_path in ecg_files:\n",
    "    df = pd.read_csv(file_path)\n",
    "    for col in df.columns:\n",
    "        if col == 'time':\n",
    "            continue\n",
    "        sums[col] += df[col].sum()\n",
    "        sumsq[col] += (df[col] ** 2).sum()\n",
    "        counts[col] += df[col].count()\n",
    "\n",
    "# Compute mean and std for each lead\n",
    "global_stats_clipped = {}\n",
    "for col in sums:\n",
    "    mean = sums[col] / counts[col]\n",
    "    var = (sumsq[col] / counts[col]) - mean ** 2\n",
    "    std = var ** 0.5\n",
    "    global_stats_clipped[col] = {'mean': mean, 'std': std}\n",
    "\n",
    "print(global_stats_clipped)  # Optionally view lead-wise stats"
   ]
  },
  {
   "cell_type": "code",
   "execution_count": 16,
   "metadata": {},
   "outputs": [
    {
     "name": "stdout",
     "output_type": "stream",
     "text": [
      "{'I': {'mean': np.float64(0.0008244467063146014), 'std': np.float64(0.12618619423799107)}, 'II': {'mean': np.float64(0.002639598971731266), 'std': np.float64(0.15602616848001877)}, 'III': {'mean': np.float64(0.00233063847090593), 'std': np.float64(0.13065246740675088)}, 'aVR': {'mean': np.float64(-0.0006678672134255577), 'std': np.float64(0.12592566953809425)}, 'aVL': {'mean': np.float64(-0.002165100527038807), 'std': np.float64(0.10321755991291601)}, 'aVF': {'mean': np.float64(0.0012038095120968282), 'std': np.float64(0.1287620572062578)}, 'V1': {'mean': np.float64(0.0010650213937836385), 'std': np.float64(0.1916399300532119)}, 'V2': {'mean': np.float64(0.005617837505461991), 'std': np.float64(0.3202138962626205)}, 'V3': {'mean': np.float64(0.005117576033032021), 'std': np.float64(0.3285690375964132)}, 'V4': {'mean': np.float64(0.002886342475415718), 'std': np.float64(0.32946913388098775)}, 'V5': {'mean': np.float64(0.0009154152963690726), 'std': np.float64(0.30538764668023605)}, 'V6': {'mean': np.float64(-0.001363474294907039), 'std': np.float64(0.28463600851594284)}}\n"
     ]
    }
   ],
   "source": [
    "print(global_stats_clipped)"
   ]
  },
  {
   "cell_type": "code",
   "execution_count": null,
   "metadata": {},
   "outputs": [],
   "source": []
  }
 ],
 "metadata": {
  "kernelspec": {
   "display_name": "Python 3",
   "language": "python",
   "name": "python3"
  },
  "language_info": {
   "codemirror_mode": {
    "name": "ipython",
    "version": 3
   },
   "file_extension": ".py",
   "mimetype": "text/x-python",
   "name": "python",
   "nbconvert_exporter": "python",
   "pygments_lexer": "ipython3",
   "version": "3.13.1"
  }
 },
 "nbformat": 4,
 "nbformat_minor": 2
}
