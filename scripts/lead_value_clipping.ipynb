{
 "cells": [
  {
   "cell_type": "code",
   "execution_count": 1,
   "metadata": {},
   "outputs": [
    {
     "name": "stdout",
     "output_type": "stream",
     "text": [
      "{'I': {'mean': np.float64(0.0017377080217930512), 'std': np.float64(0.14356736611851956)}, 'II': {'mean': np.float64(0.0038203141832033796), 'std': np.float64(0.17755781191435402)}, 'III': {'mean': np.float64(0.002078985369418842), 'std': np.float64(0.15620894004410205)}, 'aVR': {'mean': np.float64(-0.001593612601878088), 'std': np.float64(0.14130977828751345)}, 'aVL': {'mean': np.float64(-0.0013561875531537973), 'std': np.float64(0.12093651107055514)}, 'aVF': {'mean': np.float64(0.0017667012491141157), 'std': np.float64(0.15103439842117525)}, 'V1': {'mean': np.float64(-0.0004684570266756133), 'std': np.float64(0.22579097827980024)}, 'V2': {'mean': np.float64(0.0029829813693335624), 'std': np.float64(0.3648487670717997)}, 'V3': {'mean': np.float64(0.0034779498549144957), 'std': np.float64(0.3746732053707821)}, 'V4': {'mean': np.float64(0.00407681692861873), 'std': np.float64(0.38782930525871673)}, 'V5': {'mean': np.float64(0.0032441011508382465), 'std': np.float64(0.3897460908800855)}, 'V6': {'mean': np.float64(-0.0004629316852436685), 'std': np.float64(0.41566855499940053)}}\n"
     ]
    }
   ],
   "source": [
    "import pandas as pd\n",
    "import os\n",
    "import glob\n",
    "from collections import defaultdict\n",
    "\n",
    "input_dir = '../data/ecg'\n",
    "ecg_files = glob.glob(os.path.join(input_dir, '*.csv'))\n",
    "\n",
    "sums = defaultdict(float)\n",
    "sumsq = defaultdict(float)\n",
    "counts = defaultdict(int)\n",
    "\n",
    "for file_path in ecg_files:\n",
    "    df = pd.read_csv(file_path)\n",
    "    for col in df.columns:\n",
    "        if col == 'time':\n",
    "            continue\n",
    "        sums[col] += df[col].sum()\n",
    "        sumsq[col] += (df[col] ** 2).sum()\n",
    "        counts[col] += df[col].count()\n",
    "\n",
    "# Compute mean and std for each lead\n",
    "global_stats = {}\n",
    "for col in sums:\n",
    "    mean = sums[col] / counts[col]\n",
    "    var = (sumsq[col] / counts[col]) - mean ** 2\n",
    "    std = var ** 0.5\n",
    "    global_stats[col] = {'mean': mean, 'std': std}\n",
    "\n",
    "print(global_stats)  # Optionally view lead-wise stats"
   ]
  },
  {
   "cell_type": "code",
   "execution_count": 2,
   "metadata": {},
   "outputs": [
    {
     "name": "stdout",
     "output_type": "stream",
     "text": [
      "{'I': {'lower': -0.7160991225708047, 'upper': 0.7195745386143908},\n",
      " 'II': {'lower': -0.8839687453885667, 'upper': 0.8916093737549735},\n",
      " 'III': {'lower': -0.7789657148510913, 'upper': 0.7831236855899291},\n",
      " 'V1': {'lower': -1.1294233484256768, 'upper': 1.1284864343723258},\n",
      " 'V2': {'lower': -1.8212608539896649, 'upper': 1.827226816728332},\n",
      " 'V3': {'lower': -1.869888076998996, 'upper': 1.876843976708825},\n",
      " 'V4': {'lower': -1.935069709364965, 'upper': 1.9432233432222024},\n",
      " 'V5': {'lower': -1.9454863532495892, 'upper': 1.9519745555512655},\n",
      " 'V6': {'lower': -2.0788057066822465, 'upper': 2.077879843311759},\n",
      " 'aVF': {'lower': -0.7534052908567621, 'upper': 0.7569386933549904},\n",
      " 'aVL': {'lower': -0.6060387429059295, 'upper': 0.6033263677996219},\n",
      " 'aVR': {'lower': -0.7081425040394453, 'upper': 0.7049552788356892}}\n"
     ]
    }
   ],
   "source": [
    "n_std = 5  # Number of standard deviations for clipping\n",
    "\n",
    "clipping_bounds = {}\n",
    "\n",
    "for lead, stats in global_stats.items():\n",
    "    mean = float(stats['mean'])\n",
    "    std = float(stats['std'])\n",
    "    lower = mean - n_std * std\n",
    "    upper = mean + n_std * std\n",
    "    clipping_bounds[lead] = {'lower': lower, 'upper': upper}\n",
    "\n",
    "# Optionally print or inspect\n",
    "import pprint\n",
    "pprint.pprint(clipping_bounds)\n"
   ]
  },
  {
   "cell_type": "code",
   "execution_count": 3,
   "metadata": {},
   "outputs": [
    {
     "name": "stdout",
     "output_type": "stream",
     "text": [
      "✅ Metadata saved to ecg_metadata.json\n"
     ]
    }
   ],
   "source": [
    "import json\n",
    "\n",
    "# Step 1: Make sure everything is converted to standard float (not np.float64)\n",
    "def clean_for_json(d):\n",
    "    return {k: {sk: float(sv) for sk, sv in v.items()} for k, v in d.items()}\n",
    "\n",
    "# Clean versions\n",
    "global_stats_clean = clean_for_json(global_stats)\n",
    "clipping_bounds_clean = clean_for_json(clipping_bounds)\n",
    "\n",
    "# Step 2: Combine into one metadata dictionary\n",
    "metadata = {\n",
    "    'global_stats': global_stats_clean,\n",
    "    'clipping_bounds': clipping_bounds_clean\n",
    "}\n",
    "\n",
    "# Step 3: Save to JSON file\n",
    "with open('../metadata/ecg_metadata.json', 'w') as f:\n",
    "    json.dump(metadata, f, indent=4)\n",
    "\n",
    "print(\"✅ Metadata saved to ecg_metadata.json\")\n"
   ]
  },
  {
   "cell_type": "code",
   "execution_count": 21,
   "metadata": {},
   "outputs": [
    {
     "name": "stdout",
     "output_type": "stream",
     "text": [
      "⚠️ Clipping caused NaNs in V6 of 23482.csv — keeping original\n",
      "⚠️ Clipping caused NaNs in V6 of 34868.csv — keeping original\n",
      "⚠️ Clipping caused NaNs in V5 of 37781.csv — keeping original\n",
      "⚠️ Clipping caused NaNs in V6 of 27034.csv — keeping original\n",
      "⚠️ Clipping caused NaNs in V5 of 33280.csv — keeping original\n",
      "⚠️ Clipping caused NaNs in V1 of 37609.csv — keeping original\n",
      "⚠️ Clipping caused NaNs in V4 of 26843.csv — keeping original\n"
     ]
    },
    {
     "ename": "KeyboardInterrupt",
     "evalue": "",
     "output_type": "error",
     "traceback": [
      "\u001b[0;31m---------------------------------------------------------------------------\u001b[0m",
      "\u001b[0;31mKeyboardInterrupt\u001b[0m                         Traceback (most recent call last)",
      "Cell \u001b[0;32mIn[21], line 59\u001b[0m\n\u001b[1;32m     57\u001b[0m     \u001b[38;5;66;03m# Save to output folder\u001b[39;00m\n\u001b[1;32m     58\u001b[0m     filename \u001b[38;5;241m=\u001b[39m os\u001b[38;5;241m.\u001b[39mpath\u001b[38;5;241m.\u001b[39mbasename(file_path)\n\u001b[0;32m---> 59\u001b[0m     \u001b[43mclipped_df\u001b[49m\u001b[38;5;241;43m.\u001b[39;49m\u001b[43mto_csv\u001b[49m\u001b[43m(\u001b[49m\u001b[43mos\u001b[49m\u001b[38;5;241;43m.\u001b[39;49m\u001b[43mpath\u001b[49m\u001b[38;5;241;43m.\u001b[39;49m\u001b[43mjoin\u001b[49m\u001b[43m(\u001b[49m\u001b[43moutput_dir\u001b[49m\u001b[43m,\u001b[49m\u001b[43m \u001b[49m\u001b[43mfilename\u001b[49m\u001b[43m)\u001b[49m\u001b[43m,\u001b[49m\u001b[43m \u001b[49m\u001b[43mindex\u001b[49m\u001b[38;5;241;43m=\u001b[39;49m\u001b[38;5;28;43;01mFalse\u001b[39;49;00m\u001b[43m)\u001b[49m\n\u001b[1;32m     62\u001b[0m \u001b[38;5;28mprint\u001b[39m(\u001b[38;5;124m\"\u001b[39m\u001b[38;5;124m✅ All ECG files clipped and saved to:\u001b[39m\u001b[38;5;124m\"\u001b[39m, output_dir)\n",
      "File \u001b[0;32m/Library/Frameworks/Python.framework/Versions/3.13/lib/python3.13/site-packages/pandas/util/_decorators.py:333\u001b[0m, in \u001b[0;36mdeprecate_nonkeyword_arguments.<locals>.decorate.<locals>.wrapper\u001b[0;34m(*args, **kwargs)\u001b[0m\n\u001b[1;32m    327\u001b[0m \u001b[38;5;28;01mif\u001b[39;00m \u001b[38;5;28mlen\u001b[39m(args) \u001b[38;5;241m>\u001b[39m num_allow_args:\n\u001b[1;32m    328\u001b[0m     warnings\u001b[38;5;241m.\u001b[39mwarn(\n\u001b[1;32m    329\u001b[0m         msg\u001b[38;5;241m.\u001b[39mformat(arguments\u001b[38;5;241m=\u001b[39m_format_argument_list(allow_args)),\n\u001b[1;32m    330\u001b[0m         \u001b[38;5;167;01mFutureWarning\u001b[39;00m,\n\u001b[1;32m    331\u001b[0m         stacklevel\u001b[38;5;241m=\u001b[39mfind_stack_level(),\n\u001b[1;32m    332\u001b[0m     )\n\u001b[0;32m--> 333\u001b[0m \u001b[38;5;28;01mreturn\u001b[39;00m \u001b[43mfunc\u001b[49m\u001b[43m(\u001b[49m\u001b[38;5;241;43m*\u001b[39;49m\u001b[43margs\u001b[49m\u001b[43m,\u001b[49m\u001b[43m \u001b[49m\u001b[38;5;241;43m*\u001b[39;49m\u001b[38;5;241;43m*\u001b[39;49m\u001b[43mkwargs\u001b[49m\u001b[43m)\u001b[49m\n",
      "File \u001b[0;32m/Library/Frameworks/Python.framework/Versions/3.13/lib/python3.13/site-packages/pandas/core/generic.py:3967\u001b[0m, in \u001b[0;36mNDFrame.to_csv\u001b[0;34m(self, path_or_buf, sep, na_rep, float_format, columns, header, index, index_label, mode, encoding, compression, quoting, quotechar, lineterminator, chunksize, date_format, doublequote, escapechar, decimal, errors, storage_options)\u001b[0m\n\u001b[1;32m   3956\u001b[0m df \u001b[38;5;241m=\u001b[39m \u001b[38;5;28mself\u001b[39m \u001b[38;5;28;01mif\u001b[39;00m \u001b[38;5;28misinstance\u001b[39m(\u001b[38;5;28mself\u001b[39m, ABCDataFrame) \u001b[38;5;28;01melse\u001b[39;00m \u001b[38;5;28mself\u001b[39m\u001b[38;5;241m.\u001b[39mto_frame()\n\u001b[1;32m   3958\u001b[0m formatter \u001b[38;5;241m=\u001b[39m DataFrameFormatter(\n\u001b[1;32m   3959\u001b[0m     frame\u001b[38;5;241m=\u001b[39mdf,\n\u001b[1;32m   3960\u001b[0m     header\u001b[38;5;241m=\u001b[39mheader,\n\u001b[0;32m   (...)\u001b[0m\n\u001b[1;32m   3964\u001b[0m     decimal\u001b[38;5;241m=\u001b[39mdecimal,\n\u001b[1;32m   3965\u001b[0m )\n\u001b[0;32m-> 3967\u001b[0m \u001b[38;5;28;01mreturn\u001b[39;00m \u001b[43mDataFrameRenderer\u001b[49m\u001b[43m(\u001b[49m\u001b[43mformatter\u001b[49m\u001b[43m)\u001b[49m\u001b[38;5;241;43m.\u001b[39;49m\u001b[43mto_csv\u001b[49m\u001b[43m(\u001b[49m\n\u001b[1;32m   3968\u001b[0m \u001b[43m    \u001b[49m\u001b[43mpath_or_buf\u001b[49m\u001b[43m,\u001b[49m\n\u001b[1;32m   3969\u001b[0m \u001b[43m    \u001b[49m\u001b[43mlineterminator\u001b[49m\u001b[38;5;241;43m=\u001b[39;49m\u001b[43mlineterminator\u001b[49m\u001b[43m,\u001b[49m\n\u001b[1;32m   3970\u001b[0m \u001b[43m    \u001b[49m\u001b[43msep\u001b[49m\u001b[38;5;241;43m=\u001b[39;49m\u001b[43msep\u001b[49m\u001b[43m,\u001b[49m\n\u001b[1;32m   3971\u001b[0m \u001b[43m    \u001b[49m\u001b[43mencoding\u001b[49m\u001b[38;5;241;43m=\u001b[39;49m\u001b[43mencoding\u001b[49m\u001b[43m,\u001b[49m\n\u001b[1;32m   3972\u001b[0m \u001b[43m    \u001b[49m\u001b[43merrors\u001b[49m\u001b[38;5;241;43m=\u001b[39;49m\u001b[43merrors\u001b[49m\u001b[43m,\u001b[49m\n\u001b[1;32m   3973\u001b[0m \u001b[43m    \u001b[49m\u001b[43mcompression\u001b[49m\u001b[38;5;241;43m=\u001b[39;49m\u001b[43mcompression\u001b[49m\u001b[43m,\u001b[49m\n\u001b[1;32m   3974\u001b[0m \u001b[43m    \u001b[49m\u001b[43mquoting\u001b[49m\u001b[38;5;241;43m=\u001b[39;49m\u001b[43mquoting\u001b[49m\u001b[43m,\u001b[49m\n\u001b[1;32m   3975\u001b[0m \u001b[43m    \u001b[49m\u001b[43mcolumns\u001b[49m\u001b[38;5;241;43m=\u001b[39;49m\u001b[43mcolumns\u001b[49m\u001b[43m,\u001b[49m\n\u001b[1;32m   3976\u001b[0m \u001b[43m    \u001b[49m\u001b[43mindex_label\u001b[49m\u001b[38;5;241;43m=\u001b[39;49m\u001b[43mindex_label\u001b[49m\u001b[43m,\u001b[49m\n\u001b[1;32m   3977\u001b[0m \u001b[43m    \u001b[49m\u001b[43mmode\u001b[49m\u001b[38;5;241;43m=\u001b[39;49m\u001b[43mmode\u001b[49m\u001b[43m,\u001b[49m\n\u001b[1;32m   3978\u001b[0m \u001b[43m    \u001b[49m\u001b[43mchunksize\u001b[49m\u001b[38;5;241;43m=\u001b[39;49m\u001b[43mchunksize\u001b[49m\u001b[43m,\u001b[49m\n\u001b[1;32m   3979\u001b[0m \u001b[43m    \u001b[49m\u001b[43mquotechar\u001b[49m\u001b[38;5;241;43m=\u001b[39;49m\u001b[43mquotechar\u001b[49m\u001b[43m,\u001b[49m\n\u001b[1;32m   3980\u001b[0m \u001b[43m    \u001b[49m\u001b[43mdate_format\u001b[49m\u001b[38;5;241;43m=\u001b[39;49m\u001b[43mdate_format\u001b[49m\u001b[43m,\u001b[49m\n\u001b[1;32m   3981\u001b[0m \u001b[43m    \u001b[49m\u001b[43mdoublequote\u001b[49m\u001b[38;5;241;43m=\u001b[39;49m\u001b[43mdoublequote\u001b[49m\u001b[43m,\u001b[49m\n\u001b[1;32m   3982\u001b[0m \u001b[43m    \u001b[49m\u001b[43mescapechar\u001b[49m\u001b[38;5;241;43m=\u001b[39;49m\u001b[43mescapechar\u001b[49m\u001b[43m,\u001b[49m\n\u001b[1;32m   3983\u001b[0m \u001b[43m    \u001b[49m\u001b[43mstorage_options\u001b[49m\u001b[38;5;241;43m=\u001b[39;49m\u001b[43mstorage_options\u001b[49m\u001b[43m,\u001b[49m\n\u001b[1;32m   3984\u001b[0m \u001b[43m\u001b[49m\u001b[43m)\u001b[49m\n",
      "File \u001b[0;32m/Library/Frameworks/Python.framework/Versions/3.13/lib/python3.13/site-packages/pandas/io/formats/format.py:1014\u001b[0m, in \u001b[0;36mDataFrameRenderer.to_csv\u001b[0;34m(self, path_or_buf, encoding, sep, columns, index_label, mode, compression, quoting, quotechar, lineterminator, chunksize, date_format, doublequote, escapechar, errors, storage_options)\u001b[0m\n\u001b[1;32m    993\u001b[0m     created_buffer \u001b[38;5;241m=\u001b[39m \u001b[38;5;28;01mFalse\u001b[39;00m\n\u001b[1;32m    995\u001b[0m csv_formatter \u001b[38;5;241m=\u001b[39m CSVFormatter(\n\u001b[1;32m    996\u001b[0m     path_or_buf\u001b[38;5;241m=\u001b[39mpath_or_buf,\n\u001b[1;32m    997\u001b[0m     lineterminator\u001b[38;5;241m=\u001b[39mlineterminator,\n\u001b[0;32m   (...)\u001b[0m\n\u001b[1;32m   1012\u001b[0m     formatter\u001b[38;5;241m=\u001b[39m\u001b[38;5;28mself\u001b[39m\u001b[38;5;241m.\u001b[39mfmt,\n\u001b[1;32m   1013\u001b[0m )\n\u001b[0;32m-> 1014\u001b[0m \u001b[43mcsv_formatter\u001b[49m\u001b[38;5;241;43m.\u001b[39;49m\u001b[43msave\u001b[49m\u001b[43m(\u001b[49m\u001b[43m)\u001b[49m\n\u001b[1;32m   1016\u001b[0m \u001b[38;5;28;01mif\u001b[39;00m created_buffer:\n\u001b[1;32m   1017\u001b[0m     \u001b[38;5;28;01massert\u001b[39;00m \u001b[38;5;28misinstance\u001b[39m(path_or_buf, StringIO)\n",
      "File \u001b[0;32m/Library/Frameworks/Python.framework/Versions/3.13/lib/python3.13/site-packages/pandas/io/formats/csvs.py:270\u001b[0m, in \u001b[0;36mCSVFormatter.save\u001b[0;34m(self)\u001b[0m\n\u001b[1;32m    251\u001b[0m \u001b[38;5;28;01mwith\u001b[39;00m get_handle(\n\u001b[1;32m    252\u001b[0m     \u001b[38;5;28mself\u001b[39m\u001b[38;5;241m.\u001b[39mfilepath_or_buffer,\n\u001b[1;32m    253\u001b[0m     \u001b[38;5;28mself\u001b[39m\u001b[38;5;241m.\u001b[39mmode,\n\u001b[0;32m   (...)\u001b[0m\n\u001b[1;32m    258\u001b[0m ) \u001b[38;5;28;01mas\u001b[39;00m handles:\n\u001b[1;32m    259\u001b[0m     \u001b[38;5;66;03m# Note: self.encoding is irrelevant here\u001b[39;00m\n\u001b[1;32m    260\u001b[0m     \u001b[38;5;28mself\u001b[39m\u001b[38;5;241m.\u001b[39mwriter \u001b[38;5;241m=\u001b[39m csvlib\u001b[38;5;241m.\u001b[39mwriter(\n\u001b[1;32m    261\u001b[0m         handles\u001b[38;5;241m.\u001b[39mhandle,\n\u001b[1;32m    262\u001b[0m         lineterminator\u001b[38;5;241m=\u001b[39m\u001b[38;5;28mself\u001b[39m\u001b[38;5;241m.\u001b[39mlineterminator,\n\u001b[0;32m   (...)\u001b[0m\n\u001b[1;32m    267\u001b[0m         quotechar\u001b[38;5;241m=\u001b[39m\u001b[38;5;28mself\u001b[39m\u001b[38;5;241m.\u001b[39mquotechar,\n\u001b[1;32m    268\u001b[0m     )\n\u001b[0;32m--> 270\u001b[0m     \u001b[38;5;28;43mself\u001b[39;49m\u001b[38;5;241;43m.\u001b[39;49m\u001b[43m_save\u001b[49m\u001b[43m(\u001b[49m\u001b[43m)\u001b[49m\n",
      "File \u001b[0;32m/Library/Frameworks/Python.framework/Versions/3.13/lib/python3.13/site-packages/pandas/io/formats/csvs.py:275\u001b[0m, in \u001b[0;36mCSVFormatter._save\u001b[0;34m(self)\u001b[0m\n\u001b[1;32m    273\u001b[0m \u001b[38;5;28;01mif\u001b[39;00m \u001b[38;5;28mself\u001b[39m\u001b[38;5;241m.\u001b[39m_need_to_save_header:\n\u001b[1;32m    274\u001b[0m     \u001b[38;5;28mself\u001b[39m\u001b[38;5;241m.\u001b[39m_save_header()\n\u001b[0;32m--> 275\u001b[0m \u001b[38;5;28;43mself\u001b[39;49m\u001b[38;5;241;43m.\u001b[39;49m\u001b[43m_save_body\u001b[49m\u001b[43m(\u001b[49m\u001b[43m)\u001b[49m\n",
      "File \u001b[0;32m/Library/Frameworks/Python.framework/Versions/3.13/lib/python3.13/site-packages/pandas/io/formats/csvs.py:313\u001b[0m, in \u001b[0;36mCSVFormatter._save_body\u001b[0;34m(self)\u001b[0m\n\u001b[1;32m    311\u001b[0m \u001b[38;5;28;01mif\u001b[39;00m start_i \u001b[38;5;241m>\u001b[39m\u001b[38;5;241m=\u001b[39m end_i:\n\u001b[1;32m    312\u001b[0m     \u001b[38;5;28;01mbreak\u001b[39;00m\n\u001b[0;32m--> 313\u001b[0m \u001b[38;5;28;43mself\u001b[39;49m\u001b[38;5;241;43m.\u001b[39;49m\u001b[43m_save_chunk\u001b[49m\u001b[43m(\u001b[49m\u001b[43mstart_i\u001b[49m\u001b[43m,\u001b[49m\u001b[43m \u001b[49m\u001b[43mend_i\u001b[49m\u001b[43m)\u001b[49m\n",
      "File \u001b[0;32m/Library/Frameworks/Python.framework/Versions/3.13/lib/python3.13/site-packages/pandas/io/formats/csvs.py:324\u001b[0m, in \u001b[0;36mCSVFormatter._save_chunk\u001b[0;34m(self, start_i, end_i)\u001b[0m\n\u001b[1;32m    321\u001b[0m data \u001b[38;5;241m=\u001b[39m \u001b[38;5;28mlist\u001b[39m(res\u001b[38;5;241m.\u001b[39m_iter_column_arrays())\n\u001b[1;32m    323\u001b[0m ix \u001b[38;5;241m=\u001b[39m \u001b[38;5;28mself\u001b[39m\u001b[38;5;241m.\u001b[39mdata_index[slicer]\u001b[38;5;241m.\u001b[39m_get_values_for_csv(\u001b[38;5;241m*\u001b[39m\u001b[38;5;241m*\u001b[39m\u001b[38;5;28mself\u001b[39m\u001b[38;5;241m.\u001b[39m_number_format)\n\u001b[0;32m--> 324\u001b[0m \u001b[43mlibwriters\u001b[49m\u001b[38;5;241;43m.\u001b[39;49m\u001b[43mwrite_csv_rows\u001b[49m\u001b[43m(\u001b[49m\n\u001b[1;32m    325\u001b[0m \u001b[43m    \u001b[49m\u001b[43mdata\u001b[49m\u001b[43m,\u001b[49m\n\u001b[1;32m    326\u001b[0m \u001b[43m    \u001b[49m\u001b[43mix\u001b[49m\u001b[43m,\u001b[49m\n\u001b[1;32m    327\u001b[0m \u001b[43m    \u001b[49m\u001b[38;5;28;43mself\u001b[39;49m\u001b[38;5;241;43m.\u001b[39;49m\u001b[43mnlevels\u001b[49m\u001b[43m,\u001b[49m\n\u001b[1;32m    328\u001b[0m \u001b[43m    \u001b[49m\u001b[38;5;28;43mself\u001b[39;49m\u001b[38;5;241;43m.\u001b[39;49m\u001b[43mcols\u001b[49m\u001b[43m,\u001b[49m\n\u001b[1;32m    329\u001b[0m \u001b[43m    \u001b[49m\u001b[38;5;28;43mself\u001b[39;49m\u001b[38;5;241;43m.\u001b[39;49m\u001b[43mwriter\u001b[49m\u001b[43m,\u001b[49m\n\u001b[1;32m    330\u001b[0m \u001b[43m\u001b[49m\u001b[43m)\u001b[49m\n",
      "File \u001b[0;32mwriters.pyx:73\u001b[0m, in \u001b[0;36mpandas._libs.writers.write_csv_rows\u001b[0;34m()\u001b[0m\n",
      "\u001b[0;31mKeyboardInterrupt\u001b[0m: "
     ]
    }
   ],
   "source": [
    "import pandas as pd\n",
    "import os\n",
    "import glob\n",
    "import json\n",
    "\n",
    "# Load clipping bounds from metadata JSON\n",
    "with open('../metadata/ecg_metadata.json', 'r') as f:\n",
    "    metadata = json.load(f)\n",
    "\n",
    "clipping_bounds = metadata['clipping_bounds']\n",
    "\n",
    "# Setup paths\n",
    "input_dir = '../data/ecg'\n",
    "output_dir = '../data/ecg_clipped'\n",
    "os.makedirs(output_dir, exist_ok=True)\n",
    "\n",
    "# Get list of all .csv files\n",
    "ecg_files = glob.glob(os.path.join(input_dir, '*.csv'))\n",
    "\n",
    "# Clip each file safely\n",
    "for file_path in ecg_files:\n",
    "    df = pd.read_csv(file_path)\n",
    "    clipped_df = df.copy()\n",
    "\n",
    "    for col in df.columns:\n",
    "        if col == 'time':\n",
    "            continue\n",
    "\n",
    "        # Skip if no bounds\n",
    "        if col not in clipping_bounds:\n",
    "            print(f\"⚠️ No bounds for {col} in {os.path.basename(file_path)}\")\n",
    "            continue\n",
    "\n",
    "        # Skip if data or bounds are bad\n",
    "        if df[col].isnull().all():\n",
    "            print(f\"❌ All-NaN column '{col}' in {os.path.basename(file_path)}\")\n",
    "            continue\n",
    "\n",
    "        lower = clipping_bounds[col]['lower']\n",
    "        upper = clipping_bounds[col]['upper']\n",
    "\n",
    "        if pd.isna(lower) or pd.isna(upper):\n",
    "            print(f\"❌ NaN bounds for {col} in {os.path.basename(file_path)}\")\n",
    "            continue\n",
    "\n",
    "        # Clip\n",
    "        clipped_values = df[col].clip(lower=lower, upper=upper)\n",
    "\n",
    "        # Only assign if result is clean\n",
    "        if clipped_values.isnull().any():\n",
    "            print(f\"⚠️ Clipping caused NaNs in {col} of {os.path.basename(file_path)} — keeping original\")\n",
    "            # Do NOT assign to clipped_df[col]\n",
    "        else:\n",
    "            clipped_df[col] = clipped_values\n",
    "\n",
    "\n",
    "    # Save to output folder\n",
    "    filename = os.path.basename(file_path)\n",
    "    clipped_df.to_csv(os.path.join(output_dir, filename), index=False)\n",
    "\n",
    "\n",
    "print(\"✅ All ECG files clipped and saved to:\", output_dir)\n"
   ]
  },
  {
   "cell_type": "code",
   "execution_count": 19,
   "metadata": {},
   "outputs": [
    {
     "name": "stdout",
     "output_type": "stream",
     "text": [
      "{'I': {'mean': np.float64(0.0008244467063146014), 'std': np.float64(0.12618619423799107)}, 'II': {'mean': np.float64(0.002639598971731266), 'std': np.float64(0.15602616848001877)}, 'III': {'mean': np.float64(0.00233063847090593), 'std': np.float64(0.13065246740675088)}, 'aVR': {'mean': np.float64(-0.0006678672134255577), 'std': np.float64(0.12592566953809425)}, 'aVL': {'mean': np.float64(-0.002165100527038807), 'std': np.float64(0.10321755991291601)}, 'aVF': {'mean': np.float64(0.0012038095120968282), 'std': np.float64(0.1287620572062578)}, 'V1': {'mean': np.float64(0.001055711941163944), 'std': np.float64(0.19246155260871106)}, 'V2': {'mean': np.float64(0.005684221647281601), 'std': np.float64(0.32402830446817527)}, 'V3': {'mean': np.float64(0.005159359829768701), 'std': np.float64(0.33512146119196606)}, 'V4': {'mean': np.float64(0.002917487831573588), 'std': np.float64(0.33800799766217704)}, 'V5': {'mean': np.float64(0.0010722234338058625), 'std': np.float64(0.3389845266393788)}, 'V6': {'mean': np.float64(-0.0012681614764543927), 'std': np.float64(0.3463694843462956)}}\n"
     ]
    }
   ],
   "source": [
    "\n",
    "input_dir = '../data/ecg_clipped'\n",
    "ecg_files = glob.glob(os.path.join(input_dir, '*.csv'))\n",
    "\n",
    "sums = defaultdict(float)\n",
    "sumsq = defaultdict(float)\n",
    "counts = defaultdict(int)\n",
    "\n",
    "for file_path in ecg_files:\n",
    "    df = pd.read_csv(file_path)\n",
    "    for col in df.columns:\n",
    "        if col == 'time':\n",
    "            continue\n",
    "        sums[col] += df[col].sum()\n",
    "        sumsq[col] += (df[col] ** 2).sum()\n",
    "        counts[col] += df[col].count()\n",
    "\n",
    "# Compute mean and std for each lead\n",
    "global_stats_clipped = {}\n",
    "for col in sums:\n",
    "    mean = sums[col] / counts[col]\n",
    "    var = (sumsq[col] / counts[col]) - mean ** 2\n",
    "    std = var ** 0.5\n",
    "    global_stats_clipped[col] = {'mean': mean, 'std': std}\n",
    "\n",
    "print(global_stats_clipped)  # Optionally view lead-wise stats"
   ]
  },
  {
   "cell_type": "code",
   "execution_count": 20,
   "metadata": {},
   "outputs": [
    {
     "name": "stdout",
     "output_type": "stream",
     "text": [
      "{'I': {'mean': np.float64(0.0008244467063146014), 'std': np.float64(0.12618619423799107)}, 'II': {'mean': np.float64(0.002639598971731266), 'std': np.float64(0.15602616848001877)}, 'III': {'mean': np.float64(0.00233063847090593), 'std': np.float64(0.13065246740675088)}, 'aVR': {'mean': np.float64(-0.0006678672134255577), 'std': np.float64(0.12592566953809425)}, 'aVL': {'mean': np.float64(-0.002165100527038807), 'std': np.float64(0.10321755991291601)}, 'aVF': {'mean': np.float64(0.0012038095120968282), 'std': np.float64(0.1287620572062578)}, 'V1': {'mean': np.float64(0.001055711941163944), 'std': np.float64(0.19246155260871106)}, 'V2': {'mean': np.float64(0.005684221647281601), 'std': np.float64(0.32402830446817527)}, 'V3': {'mean': np.float64(0.005159359829768701), 'std': np.float64(0.33512146119196606)}, 'V4': {'mean': np.float64(0.002917487831573588), 'std': np.float64(0.33800799766217704)}, 'V5': {'mean': np.float64(0.0010722234338058625), 'std': np.float64(0.3389845266393788)}, 'V6': {'mean': np.float64(-0.0012681614764543927), 'std': np.float64(0.3463694843462956)}}\n"
     ]
    }
   ],
   "source": [
    "print(global_stats_clipped)"
   ]
  },
  {
   "cell_type": "code",
   "execution_count": null,
   "metadata": {},
   "outputs": [],
   "source": []
  }
 ],
 "metadata": {
  "kernelspec": {
   "display_name": "Python 3",
   "language": "python",
   "name": "python3"
  },
  "language_info": {
   "codemirror_mode": {
    "name": "ipython",
    "version": 3
   },
   "file_extension": ".py",
   "mimetype": "text/x-python",
   "name": "python",
   "nbconvert_exporter": "python",
   "pygments_lexer": "ipython3",
   "version": "3.13.1"
  }
 },
 "nbformat": 4,
 "nbformat_minor": 2
}
