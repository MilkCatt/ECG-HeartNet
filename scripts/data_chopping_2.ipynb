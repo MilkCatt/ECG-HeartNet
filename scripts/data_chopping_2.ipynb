{
 "cells": [
  {
   "cell_type": "code",
   "execution_count": 33,
   "id": "bd7bf27a",
   "metadata": {},
   "outputs": [
    {
     "data": {
      "text/html": [
       "<div>\n",
       "<style scoped>\n",
       "    .dataframe tbody tr th:only-of-type {\n",
       "        vertical-align: middle;\n",
       "    }\n",
       "\n",
       "    .dataframe tbody tr th {\n",
       "        vertical-align: top;\n",
       "    }\n",
       "\n",
       "    .dataframe thead th {\n",
       "        text-align: right;\n",
       "    }\n",
       "</style>\n",
       "<table border=\"1\" class=\"dataframe\">\n",
       "  <thead>\n",
       "    <tr style=\"text-align: right;\">\n",
       "      <th></th>\n",
       "      <th>ID</th>\n",
       "      <th>Dx_426177001</th>\n",
       "      <th>Dx_426783006</th>\n",
       "    </tr>\n",
       "  </thead>\n",
       "  <tbody>\n",
       "    <tr>\n",
       "      <th>0</th>\n",
       "      <td>JS00001</td>\n",
       "      <td>False</td>\n",
       "      <td>False</td>\n",
       "    </tr>\n",
       "    <tr>\n",
       "      <th>1</th>\n",
       "      <td>JS00002</td>\n",
       "      <td>True</td>\n",
       "      <td>False</td>\n",
       "    </tr>\n",
       "    <tr>\n",
       "      <th>2</th>\n",
       "      <td>JS00004</td>\n",
       "      <td>True</td>\n",
       "      <td>False</td>\n",
       "    </tr>\n",
       "    <tr>\n",
       "      <th>3</th>\n",
       "      <td>JS00005</td>\n",
       "      <td>False</td>\n",
       "      <td>False</td>\n",
       "    </tr>\n",
       "    <tr>\n",
       "      <th>4</th>\n",
       "      <td>JS00006</td>\n",
       "      <td>True</td>\n",
       "      <td>False</td>\n",
       "    </tr>\n",
       "  </tbody>\n",
       "</table>\n",
       "</div>"
      ],
      "text/plain": [
       "        ID  Dx_426177001  Dx_426783006\n",
       "0  JS00001         False         False\n",
       "1  JS00002          True         False\n",
       "2  JS00004          True         False\n",
       "3  JS00005         False         False\n",
       "4  JS00006          True         False"
      ]
     },
     "execution_count": 33,
     "metadata": {},
     "output_type": "execute_result"
    }
   ],
   "source": [
    "import pandas as pd\n",
    "\n",
    "data = pd.read_csv('data/diagnoses_10.csv')\n",
    "\n",
    "# Drop the first column\n",
    "data = data.iloc[:, 1:]\n",
    "data = data.iloc[:, :-4] # Drop the other classes, keeping first 2\n",
    "data.head()"
   ]
  },
  {
   "cell_type": "code",
   "execution_count": 34,
   "id": "9fb1eb04",
   "metadata": {},
   "outputs": [
    {
     "name": "stdout",
     "output_type": "stream",
     "text": [
      "True count: 16559\n",
      "False count: 28593\n",
      "True count after adjustment: 16559\n",
      "False count after adjustment: 16559\n"
     ]
    },
    {
     "data": {
      "text/plain": [
       "(33118, 3)"
      ]
     },
     "execution_count": 34,
     "metadata": {},
     "output_type": "execute_result"
    }
   ],
   "source": [
    "# For first class, calculate the 50/50 count\n",
    "true_count = data['Dx_426177001'].sum()\n",
    "false_count = len(data) - true_count\n",
    "print(f\"True count: {true_count}\")\n",
    "print(f\"False count: {false_count}\")\n",
    "\n",
    "# Adjust the dataset based on the true_count and false_count\n",
    "if true_count > false_count:\n",
    "    # If there are more True values than needed, randomly sample rows to remove\n",
    "    true_rows = data[data['Dx_426177001']].sample(n=(true_count - false_count), random_state=42)\n",
    "    data = data.drop(true_rows.index)\n",
    "elif true_count < false_count:\n",
    "    # If there are less True than needed, sample False rows to remove\n",
    "    false_rows = data[~data['Dx_426177001']].sample(n=(false_count - true_count), random_state=42)\n",
    "    data = data.drop(false_rows.index)\n",
    "\n",
    "true_count_after = data['Dx_426177001'].sum()\n",
    "false_count_after = len(data) - true_count_after\n",
    "print(f\"True count after adjustment: {true_count_after}\")\n",
    "print(f\"False count after adjustment: {false_count_after}\")\n",
    "data.shape"
   ]
  },
  {
   "cell_type": "code",
   "execution_count": 37,
   "id": "7e97e68d",
   "metadata": {},
   "outputs": [],
   "source": [
    "data.to_csv('data/diagnoses_cut.csv', index=False)"
   ]
  }
 ],
 "metadata": {
  "kernelspec": {
   "display_name": ".venv",
   "language": "python",
   "name": "python3"
  },
  "language_info": {
   "codemirror_mode": {
    "name": "ipython",
    "version": 3
   },
   "file_extension": ".py",
   "mimetype": "text/x-python",
   "name": "python",
   "nbconvert_exporter": "python",
   "pygments_lexer": "ipython3",
   "version": "3.12.7"
  }
 },
 "nbformat": 4,
 "nbformat_minor": 5
}
